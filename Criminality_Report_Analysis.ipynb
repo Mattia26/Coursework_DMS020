{
 "cells": [
  {
   "cell_type": "markdown",
   "id": "7b77a6d9",
   "metadata": {},
   "source": [
    "# Crimes in Europe and Correlation with Social Conditions"
   ]
  },
  {
   "cell_type": "markdown",
   "id": "2d8cca2b",
   "metadata": {},
   "source": [
    "## 1. Libraries & Utility Functions"
   ]
  },
  {
   "cell_type": "code",
   "execution_count": 1,
   "id": "b61d0f38",
   "metadata": {},
   "outputs": [],
   "source": [
    "import pandas as pd\n",
    "import seaborn as sns\n",
    "import matplotlib.pyplot as plt\n",
    "import numpy as np\n",
    "import scipy.stats as stats\n",
    "from scipy import signal\n",
    "from functools import reduce \n",
    "from sklearn import linear_model\n",
    "from sklearn.metrics import mean_squared_error, r2_score\n",
    "from sklearn.model_selection import train_test_split\n",
    "import unittest"
   ]
  },
  {
   "cell_type": "code",
   "execution_count": 2,
   "id": "01ca159f",
   "metadata": {},
   "outputs": [],
   "source": [
    "# Constants\n",
    "COUNTRIES = ['Belgium',\n",
    " 'Czechia',\n",
    " 'France',\n",
    " 'Germany (until 1990 former territory of the FRG)',\n",
    " 'Greece',\n",
    " 'Hungary',\n",
    " 'Italy',\n",
    " 'Netherlands',\n",
    " 'Poland',\n",
    " 'Portugal',\n",
    " 'Romania',\n",
    " 'Spain',\n",
    " 'Sweden',\n",
    " 'United Kingdom']\n",
    "\n",
    "CRIME_TYPOLOGIES = [\n",
    "    'Intentional homicide',\n",
    "    'Robbery',\n",
    "    'Theft of a motorized land vehicle',\n",
    "    'Unlawful acts involving controlled drugs or precursors']\n",
    "\n",
    "MAX_P_VALUE = 0.05"
   ]
  },
  {
   "cell_type": "code",
   "execution_count": 12,
   "id": "c661a4f2",
   "metadata": {},
   "outputs": [
    {
     "data": {
      "text/plain": [
       "float"
      ]
     },
     "execution_count": 12,
     "metadata": {},
     "output_type": "execute_result"
    }
   ],
   "source": [
    "type({}) == int or float"
   ]
  },
  {
   "cell_type": "code",
   "execution_count": 25,
   "id": "7231c807",
   "metadata": {},
   "outputs": [],
   "source": [
    "def normalize_value(x, min, max):\n",
    "    \n",
    "    if type(x) != int and type(x) != float:\n",
    "        return None\n",
    "    if type(min) != int and type(x) != float:\n",
    "        return None\n",
    "    if type(max) != int and type(x) != float:\n",
    "        return None\n",
    "    if max == min:\n",
    "        return None\n",
    "    if x < min:\n",
    "        return None\n",
    "    if x > max:\n",
    "        return None\n",
    "    \n",
    "    return (x - min) / (max - min)\n",
    "\n",
    "\n",
    "def normalize_list(l):\n",
    "    min = np.min(l)\n",
    "    max = np.max(l)\n",
    "    \n",
    "    return [normalize_value(x,min,max) for x in l]\n",
    "\n",
    "def get_best_lag(v1,v2,mode):\n",
    "    corr = signal.correlate(v1, v2, mode=mode)\n",
    "    lags = signal.correlation_lags(len(v1), len(v2), mode=mode)\n",
    "    corr /= np.max(corr)\n",
    "    return lags[np.argmax(np.abs(corr))]\n",
    "\n",
    "def shift_array(v1, v2, shift):\n",
    "    if shift == 0:\n",
    "        return v1, v2\n",
    "    \n",
    "    if shift < 0:\n",
    "        return v1[:best_lag], v2[-best_lag:]\n",
    "    \n",
    "    if shift > 0:\n",
    "        return v1[best_lag:], v2[:-best_lag]\n",
    "    \n",
    "def filter_p_value(d, cut_off, lag):\n",
    "    p_value_col = 'p_value_lag' if lag else 'p_value'\n",
    "    return [x for x in d if x[p_value_col] <= cut_off]"
   ]
  },
  {
   "cell_type": "code",
   "execution_count": 43,
   "id": "ef1b9655",
   "metadata": {},
   "outputs": [
    {
     "data": {
      "text/plain": [
       "list"
      ]
     },
     "execution_count": 43,
     "metadata": {},
     "output_type": "execute_result"
    }
   ],
   "source": [
    "type([])"
   ]
  },
  {
   "cell_type": "code",
   "execution_count": 45,
   "id": "3eee3bfe",
   "metadata": {},
   "outputs": [
    {
     "name": "stderr",
     "output_type": "stream",
     "text": [
      "test_return (__main__.TestNormalizeList) ... ok\n",
      "test_value (__main__.TestNormalizeList) ... FAIL\n",
      "test_minEqualsMax (__main__.TestNormalizeValue) ... ok\n",
      "test_notNumber (__main__.TestNormalizeValue) ... ok\n",
      "test_returnType (__main__.TestNormalizeValue) ... ok\n",
      "test_values (__main__.TestNormalizeValue) ... ok\n",
      "test_xGreaterThanMax (__main__.TestNormalizeValue) ... ok\n",
      "test_xLessThanMin (__main__.TestNormalizeValue) ... ok\n",
      "\n",
      "======================================================================\n",
      "FAIL: test_value (__main__.TestNormalizeList)\n",
      "----------------------------------------------------------------------\n",
      "Traceback (most recent call last):\n",
      "  File \"<ipython-input-45-fbcdbf1881b4>\", line 47, in test_value\n",
      "    self.assertEqual(result, self.standard_output)\n",
      "AssertionError: Lists differ: [None, None, None] != [0, 0.5, 1]\n",
      "\n",
      "First differing element 0:\n",
      "None\n",
      "0\n",
      "\n",
      "- [None, None, None]\n",
      "+ [0, 0.5, 1]\n",
      "\n",
      "----------------------------------------------------------------------\n",
      "Ran 8 tests in 0.007s\n",
      "\n",
      "FAILED (failures=1)\n"
     ]
    }
   ],
   "source": [
    "# Unit test\n",
    "class TestNormalizeValue(unittest.TestCase):\n",
    "    \n",
    "    def test_returnType(self):\n",
    "        result = normalize_value(1,0,2)\n",
    "        self.assertTrue((type(result) == int) or (type(result) == float))\n",
    "    \n",
    "    def test_values(self):\n",
    "        result = normalize_value(1,1,2)\n",
    "        self.assertEqual(result, 0)\n",
    "        result = normalize_value(2,1,2)\n",
    "        self.assertEqual(result, 1)\n",
    "        result = normalize_value(1,0,2)\n",
    "        self.assertEqual(result, 0.5)\n",
    "    \n",
    "    \n",
    "    def test_notNumber(self):\n",
    "        result = normalize_value('a',{},21)\n",
    "        self.assertEqual(result, None)\n",
    "        \n",
    "        result = normalize_value(False, False, [1,2,3])\n",
    "        self.assertEqual(result, None)\n",
    "\n",
    "    def test_minEqualsMax(self):\n",
    "        result = normalize_value(0,2,2)\n",
    "        self.assertEqual(result, None)\n",
    "    \n",
    "    def test_xGreaterThanMax(self):\n",
    "        result = normalize_value(4,2,3)\n",
    "        self.assertEqual(result, None)\n",
    "    \n",
    "    def test_xLessThanMin(self):\n",
    "        result = normalize_value(1,2,3)\n",
    "        self.assertEqual(result, None)\n",
    "        \n",
    "class TestNormalizeList(unittest.TestCase):\n",
    "    def setUp(self):\n",
    "        self.standard_input= [1,2,3]\n",
    "        self.standard_output = [0, 0.5, 1]\n",
    "        \n",
    "    def test_return(self):\n",
    "        result = normalize_list(self.standard_input)\n",
    "        self.assertTrue(type(result) == list)\n",
    "    \n",
    "    def test_value(self):\n",
    "        result = normalize_list(self.standard_input)\n",
    "        self.assertEqual(result, self.standard_output)\n",
    "    \n",
    "        \n",
    "if __name__ == '__main__':\n",
    "    unittest.main(argv=['ignored', '-v'], exit=False)\n"
   ]
  },
  {
   "cell_type": "markdown",
   "id": "7d7931aa",
   "metadata": {},
   "source": [
    "## 2. Dataset & Normalization"
   ]
  },
  {
   "cell_type": "code",
   "execution_count": 5,
   "id": "1eef4b36",
   "metadata": {},
   "outputs": [
    {
     "data": {
      "text/html": [
       "<div>\n",
       "<style scoped>\n",
       "    .dataframe tbody tr th:only-of-type {\n",
       "        vertical-align: middle;\n",
       "    }\n",
       "\n",
       "    .dataframe tbody tr th {\n",
       "        vertical-align: top;\n",
       "    }\n",
       "\n",
       "    .dataframe thead th {\n",
       "        text-align: right;\n",
       "    }\n",
       "</style>\n",
       "<table border=\"1\" class=\"dataframe\">\n",
       "  <thead>\n",
       "    <tr style=\"text-align: right;\">\n",
       "      <th></th>\n",
       "      <th>Country</th>\n",
       "      <th>Crime Typology</th>\n",
       "      <th>Crimes Reported</th>\n",
       "      <th>Year</th>\n",
       "      <th>Pop on 1st Jan</th>\n",
       "      <th>Crimes per 100k</th>\n",
       "      <th>Unemp Perc</th>\n",
       "      <th>Early Leavers Perc</th>\n",
       "    </tr>\n",
       "  </thead>\n",
       "  <tbody>\n",
       "    <tr>\n",
       "      <th>0</th>\n",
       "      <td>Belgium</td>\n",
       "      <td>Intentional homicide</td>\n",
       "      <td>216</td>\n",
       "      <td>2000</td>\n",
       "      <td>10239085.0</td>\n",
       "      <td>2.109564</td>\n",
       "      <td>7.0</td>\n",
       "      <td>13.8</td>\n",
       "    </tr>\n",
       "    <tr>\n",
       "      <th>1</th>\n",
       "      <td>Belgium</td>\n",
       "      <td>Intentional homicide</td>\n",
       "      <td>282</td>\n",
       "      <td>2001</td>\n",
       "      <td>10263414.0</td>\n",
       "      <td>2.747624</td>\n",
       "      <td>6.6</td>\n",
       "      <td>13.8</td>\n",
       "    </tr>\n",
       "    <tr>\n",
       "      <th>2</th>\n",
       "      <td>Belgium</td>\n",
       "      <td>Intentional homicide</td>\n",
       "      <td>320</td>\n",
       "      <td>2002</td>\n",
       "      <td>10309725.0</td>\n",
       "      <td>3.103866</td>\n",
       "      <td>7.5</td>\n",
       "      <td>14.1</td>\n",
       "    </tr>\n",
       "    <tr>\n",
       "      <th>3</th>\n",
       "      <td>Belgium</td>\n",
       "      <td>Intentional homicide</td>\n",
       "      <td>229</td>\n",
       "      <td>2003</td>\n",
       "      <td>10355844.0</td>\n",
       "      <td>2.211312</td>\n",
       "      <td>8.2</td>\n",
       "      <td>14.3</td>\n",
       "    </tr>\n",
       "    <tr>\n",
       "      <th>4</th>\n",
       "      <td>Belgium</td>\n",
       "      <td>Intentional homicide</td>\n",
       "      <td>267</td>\n",
       "      <td>2004</td>\n",
       "      <td>10396421.0</td>\n",
       "      <td>2.568191</td>\n",
       "      <td>8.4</td>\n",
       "      <td>13.1</td>\n",
       "    </tr>\n",
       "  </tbody>\n",
       "</table>\n",
       "</div>"
      ],
      "text/plain": [
       "   Country        Crime Typology  Crimes Reported  Year  Pop on 1st Jan  \\\n",
       "0  Belgium  Intentional homicide              216  2000      10239085.0   \n",
       "1  Belgium  Intentional homicide              282  2001      10263414.0   \n",
       "2  Belgium  Intentional homicide              320  2002      10309725.0   \n",
       "3  Belgium  Intentional homicide              229  2003      10355844.0   \n",
       "4  Belgium  Intentional homicide              267  2004      10396421.0   \n",
       "\n",
       "   Crimes per 100k  Unemp Perc  Early Leavers Perc  \n",
       "0         2.109564         7.0                13.8  \n",
       "1         2.747624         6.6                13.8  \n",
       "2         3.103866         7.5                14.1  \n",
       "3         2.211312         8.2                14.3  \n",
       "4         2.568191         8.4                13.1  "
      ]
     },
     "execution_count": 5,
     "metadata": {},
     "output_type": "execute_result"
    }
   ],
   "source": [
    "raw_data = pd.read_csv(\"dataset_output/rep_crimes.csv\")\n",
    "\n",
    "raw_data.drop('Unnamed: 0', axis=1, inplace=True)\n",
    "\n",
    "raw_data.head()\n"
   ]
  },
  {
   "cell_type": "code",
   "execution_count": 6,
   "id": "8d4c3906",
   "metadata": {},
   "outputs": [
    {
     "name": "stderr",
     "output_type": "stream",
     "text": [
      "<ipython-input-6-07c4cef1cbfd>:2: FutureWarning: Indexing with multiple keys (implicitly converted to a tuple of keys) will be deprecated, use a list instead.\n",
      "  norm_cols = data_t1.groupby(['Country','Crime Typology'])['Crimes per 100k','Unemp Perc','Early Leavers Perc'].transform(normalize_list)\n"
     ]
    },
    {
     "ename": "AttributeError",
     "evalue": "'float' object has no attribute 'isnumeric'",
     "output_type": "error",
     "traceback": [
      "\u001b[0;31m---------------------------------------------------------------------------\u001b[0m",
      "\u001b[0;31mAttributeError\u001b[0m                            Traceback (most recent call last)",
      "\u001b[0;32m<ipython-input-6-07c4cef1cbfd>\u001b[0m in \u001b[0;36m<module>\u001b[0;34m\u001b[0m\n\u001b[1;32m      1\u001b[0m \u001b[0mdata_t1\u001b[0m \u001b[0;34m=\u001b[0m \u001b[0mraw_data\u001b[0m\u001b[0;34m.\u001b[0m\u001b[0mcopy\u001b[0m\u001b[0;34m(\u001b[0m\u001b[0;34m)\u001b[0m\u001b[0;34m\u001b[0m\u001b[0;34m\u001b[0m\u001b[0m\n\u001b[0;32m----> 2\u001b[0;31m \u001b[0mnorm_cols\u001b[0m \u001b[0;34m=\u001b[0m \u001b[0mdata_t1\u001b[0m\u001b[0;34m.\u001b[0m\u001b[0mgroupby\u001b[0m\u001b[0;34m(\u001b[0m\u001b[0;34m[\u001b[0m\u001b[0;34m'Country'\u001b[0m\u001b[0;34m,\u001b[0m\u001b[0;34m'Crime Typology'\u001b[0m\u001b[0;34m]\u001b[0m\u001b[0;34m)\u001b[0m\u001b[0;34m[\u001b[0m\u001b[0;34m'Crimes per 100k'\u001b[0m\u001b[0;34m,\u001b[0m\u001b[0;34m'Unemp Perc'\u001b[0m\u001b[0;34m,\u001b[0m\u001b[0;34m'Early Leavers Perc'\u001b[0m\u001b[0;34m]\u001b[0m\u001b[0;34m.\u001b[0m\u001b[0mtransform\u001b[0m\u001b[0;34m(\u001b[0m\u001b[0mnormalize_list\u001b[0m\u001b[0;34m)\u001b[0m\u001b[0;34m\u001b[0m\u001b[0;34m\u001b[0m\u001b[0m\n\u001b[0m\u001b[1;32m      3\u001b[0m \u001b[0;34m\u001b[0m\u001b[0m\n\u001b[1;32m      4\u001b[0m \u001b[0mdata_t1\u001b[0m\u001b[0;34m[\u001b[0m\u001b[0;34m'Crimes per 100k'\u001b[0m\u001b[0;34m]\u001b[0m \u001b[0;34m=\u001b[0m \u001b[0mnorm_cols\u001b[0m\u001b[0;34m[\u001b[0m\u001b[0;34m'Crimes per 100k'\u001b[0m\u001b[0;34m]\u001b[0m\u001b[0;34m\u001b[0m\u001b[0;34m\u001b[0m\u001b[0m\n\u001b[1;32m      5\u001b[0m \u001b[0mdata_t1\u001b[0m\u001b[0;34m[\u001b[0m\u001b[0;34m'Unemp Perc'\u001b[0m\u001b[0;34m]\u001b[0m \u001b[0;34m=\u001b[0m \u001b[0mnorm_cols\u001b[0m\u001b[0;34m[\u001b[0m\u001b[0;34m'Unemp Perc'\u001b[0m\u001b[0;34m]\u001b[0m\u001b[0;34m\u001b[0m\u001b[0;34m\u001b[0m\u001b[0m\n",
      "\u001b[0;32m~/opt/miniconda3/lib/python3.8/site-packages/pandas/core/groupby/generic.py\u001b[0m in \u001b[0;36mtransform\u001b[0;34m(self, func, engine, engine_kwargs, *args, **kwargs)\u001b[0m\n\u001b[1;32m   1357\u001b[0m \u001b[0;34m\u001b[0m\u001b[0m\n\u001b[1;32m   1358\u001b[0m         \u001b[0;32mif\u001b[0m \u001b[0;32mnot\u001b[0m \u001b[0misinstance\u001b[0m\u001b[0;34m(\u001b[0m\u001b[0mfunc\u001b[0m\u001b[0;34m,\u001b[0m \u001b[0mstr\u001b[0m\u001b[0;34m)\u001b[0m\u001b[0;34m:\u001b[0m\u001b[0;34m\u001b[0m\u001b[0;34m\u001b[0m\u001b[0m\n\u001b[0;32m-> 1359\u001b[0;31m             \u001b[0;32mreturn\u001b[0m \u001b[0mself\u001b[0m\u001b[0;34m.\u001b[0m\u001b[0m_transform_general\u001b[0m\u001b[0;34m(\u001b[0m\u001b[0mfunc\u001b[0m\u001b[0;34m,\u001b[0m \u001b[0;34m*\u001b[0m\u001b[0margs\u001b[0m\u001b[0;34m,\u001b[0m \u001b[0;34m**\u001b[0m\u001b[0mkwargs\u001b[0m\u001b[0;34m)\u001b[0m\u001b[0;34m\u001b[0m\u001b[0;34m\u001b[0m\u001b[0m\n\u001b[0m\u001b[1;32m   1360\u001b[0m \u001b[0;34m\u001b[0m\u001b[0m\n\u001b[1;32m   1361\u001b[0m         \u001b[0;32melif\u001b[0m \u001b[0mfunc\u001b[0m \u001b[0;32mnot\u001b[0m \u001b[0;32min\u001b[0m \u001b[0mbase\u001b[0m\u001b[0;34m.\u001b[0m\u001b[0mtransform_kernel_allowlist\u001b[0m\u001b[0;34m:\u001b[0m\u001b[0;34m\u001b[0m\u001b[0;34m\u001b[0m\u001b[0m\n",
      "\u001b[0;32m~/opt/miniconda3/lib/python3.8/site-packages/pandas/core/groupby/generic.py\u001b[0m in \u001b[0;36m_transform_general\u001b[0;34m(self, func, *args, **kwargs)\u001b[0m\n\u001b[1;32m   1304\u001b[0m             \u001b[0;31m# Try slow path and fast path.\u001b[0m\u001b[0;34m\u001b[0m\u001b[0;34m\u001b[0m\u001b[0;34m\u001b[0m\u001b[0m\n\u001b[1;32m   1305\u001b[0m             \u001b[0;32mtry\u001b[0m\u001b[0;34m:\u001b[0m\u001b[0;34m\u001b[0m\u001b[0;34m\u001b[0m\u001b[0m\n\u001b[0;32m-> 1306\u001b[0;31m                 \u001b[0mpath\u001b[0m\u001b[0;34m,\u001b[0m \u001b[0mres\u001b[0m \u001b[0;34m=\u001b[0m \u001b[0mself\u001b[0m\u001b[0;34m.\u001b[0m\u001b[0m_choose_path\u001b[0m\u001b[0;34m(\u001b[0m\u001b[0mfast_path\u001b[0m\u001b[0;34m,\u001b[0m \u001b[0mslow_path\u001b[0m\u001b[0;34m,\u001b[0m \u001b[0mgroup\u001b[0m\u001b[0;34m)\u001b[0m\u001b[0;34m\u001b[0m\u001b[0;34m\u001b[0m\u001b[0m\n\u001b[0m\u001b[1;32m   1307\u001b[0m             \u001b[0;32mexcept\u001b[0m \u001b[0mTypeError\u001b[0m\u001b[0;34m:\u001b[0m\u001b[0;34m\u001b[0m\u001b[0;34m\u001b[0m\u001b[0m\n\u001b[1;32m   1308\u001b[0m                 \u001b[0;32mreturn\u001b[0m \u001b[0mself\u001b[0m\u001b[0;34m.\u001b[0m\u001b[0m_transform_item_by_item\u001b[0m\u001b[0;34m(\u001b[0m\u001b[0mobj\u001b[0m\u001b[0;34m,\u001b[0m \u001b[0mfast_path\u001b[0m\u001b[0;34m)\u001b[0m\u001b[0;34m\u001b[0m\u001b[0;34m\u001b[0m\u001b[0m\n",
      "\u001b[0;32m~/opt/miniconda3/lib/python3.8/site-packages/pandas/core/groupby/generic.py\u001b[0m in \u001b[0;36m_choose_path\u001b[0;34m(self, fast_path, slow_path, group)\u001b[0m\n\u001b[1;32m   1415\u001b[0m     \u001b[0;32mdef\u001b[0m \u001b[0m_choose_path\u001b[0m\u001b[0;34m(\u001b[0m\u001b[0mself\u001b[0m\u001b[0;34m,\u001b[0m \u001b[0mfast_path\u001b[0m\u001b[0;34m:\u001b[0m \u001b[0mCallable\u001b[0m\u001b[0;34m,\u001b[0m \u001b[0mslow_path\u001b[0m\u001b[0;34m:\u001b[0m \u001b[0mCallable\u001b[0m\u001b[0;34m,\u001b[0m \u001b[0mgroup\u001b[0m\u001b[0;34m:\u001b[0m \u001b[0mDataFrame\u001b[0m\u001b[0;34m)\u001b[0m\u001b[0;34m:\u001b[0m\u001b[0;34m\u001b[0m\u001b[0;34m\u001b[0m\u001b[0m\n\u001b[1;32m   1416\u001b[0m         \u001b[0mpath\u001b[0m \u001b[0;34m=\u001b[0m \u001b[0mslow_path\u001b[0m\u001b[0;34m\u001b[0m\u001b[0;34m\u001b[0m\u001b[0m\n\u001b[0;32m-> 1417\u001b[0;31m         \u001b[0mres\u001b[0m \u001b[0;34m=\u001b[0m \u001b[0mslow_path\u001b[0m\u001b[0;34m(\u001b[0m\u001b[0mgroup\u001b[0m\u001b[0;34m)\u001b[0m\u001b[0;34m\u001b[0m\u001b[0;34m\u001b[0m\u001b[0m\n\u001b[0m\u001b[1;32m   1418\u001b[0m \u001b[0;34m\u001b[0m\u001b[0m\n\u001b[1;32m   1419\u001b[0m         \u001b[0;31m# if we make it here, test if we can use the fast path\u001b[0m\u001b[0;34m\u001b[0m\u001b[0;34m\u001b[0m\u001b[0;34m\u001b[0m\u001b[0m\n",
      "\u001b[0;32m~/opt/miniconda3/lib/python3.8/site-packages/pandas/core/groupby/generic.py\u001b[0m in \u001b[0;36m<lambda>\u001b[0;34m(group)\u001b[0m\n\u001b[1;32m   1408\u001b[0m         \u001b[0;32melse\u001b[0m\u001b[0;34m:\u001b[0m\u001b[0;34m\u001b[0m\u001b[0;34m\u001b[0m\u001b[0m\n\u001b[1;32m   1409\u001b[0m             \u001b[0mfast_path\u001b[0m \u001b[0;34m=\u001b[0m \u001b[0;32mlambda\u001b[0m \u001b[0mgroup\u001b[0m\u001b[0;34m:\u001b[0m \u001b[0mfunc\u001b[0m\u001b[0;34m(\u001b[0m\u001b[0mgroup\u001b[0m\u001b[0;34m,\u001b[0m \u001b[0;34m*\u001b[0m\u001b[0margs\u001b[0m\u001b[0;34m,\u001b[0m \u001b[0;34m**\u001b[0m\u001b[0mkwargs\u001b[0m\u001b[0;34m)\u001b[0m\u001b[0;34m\u001b[0m\u001b[0;34m\u001b[0m\u001b[0m\n\u001b[0;32m-> 1410\u001b[0;31m             slow_path = lambda group: group.apply(\n\u001b[0m\u001b[1;32m   1411\u001b[0m                 \u001b[0;32mlambda\u001b[0m \u001b[0mx\u001b[0m\u001b[0;34m:\u001b[0m \u001b[0mfunc\u001b[0m\u001b[0;34m(\u001b[0m\u001b[0mx\u001b[0m\u001b[0;34m,\u001b[0m \u001b[0;34m*\u001b[0m\u001b[0margs\u001b[0m\u001b[0;34m,\u001b[0m \u001b[0;34m**\u001b[0m\u001b[0mkwargs\u001b[0m\u001b[0;34m)\u001b[0m\u001b[0;34m,\u001b[0m \u001b[0maxis\u001b[0m\u001b[0;34m=\u001b[0m\u001b[0mself\u001b[0m\u001b[0;34m.\u001b[0m\u001b[0maxis\u001b[0m\u001b[0;34m\u001b[0m\u001b[0;34m\u001b[0m\u001b[0m\n\u001b[1;32m   1412\u001b[0m             )\n",
      "\u001b[0;32m~/opt/miniconda3/lib/python3.8/site-packages/pandas/core/frame.py\u001b[0m in \u001b[0;36mapply\u001b[0;34m(self, func, axis, raw, result_type, args, **kwds)\u001b[0m\n\u001b[1;32m   7766\u001b[0m             \u001b[0mkwds\u001b[0m\u001b[0;34m=\u001b[0m\u001b[0mkwds\u001b[0m\u001b[0;34m,\u001b[0m\u001b[0;34m\u001b[0m\u001b[0;34m\u001b[0m\u001b[0m\n\u001b[1;32m   7767\u001b[0m         )\n\u001b[0;32m-> 7768\u001b[0;31m         \u001b[0;32mreturn\u001b[0m \u001b[0mop\u001b[0m\u001b[0;34m.\u001b[0m\u001b[0mget_result\u001b[0m\u001b[0;34m(\u001b[0m\u001b[0;34m)\u001b[0m\u001b[0;34m\u001b[0m\u001b[0;34m\u001b[0m\u001b[0m\n\u001b[0m\u001b[1;32m   7769\u001b[0m \u001b[0;34m\u001b[0m\u001b[0m\n\u001b[1;32m   7770\u001b[0m     \u001b[0;32mdef\u001b[0m \u001b[0mapplymap\u001b[0m\u001b[0;34m(\u001b[0m\u001b[0mself\u001b[0m\u001b[0;34m,\u001b[0m \u001b[0mfunc\u001b[0m\u001b[0;34m,\u001b[0m \u001b[0mna_action\u001b[0m\u001b[0;34m:\u001b[0m \u001b[0mOptional\u001b[0m\u001b[0;34m[\u001b[0m\u001b[0mstr\u001b[0m\u001b[0;34m]\u001b[0m \u001b[0;34m=\u001b[0m \u001b[0;32mNone\u001b[0m\u001b[0;34m)\u001b[0m \u001b[0;34m->\u001b[0m \u001b[0mDataFrame\u001b[0m\u001b[0;34m:\u001b[0m\u001b[0;34m\u001b[0m\u001b[0;34m\u001b[0m\u001b[0m\n",
      "\u001b[0;32m~/opt/miniconda3/lib/python3.8/site-packages/pandas/core/apply.py\u001b[0m in \u001b[0;36mget_result\u001b[0;34m(self)\u001b[0m\n\u001b[1;32m    183\u001b[0m             \u001b[0;32mreturn\u001b[0m \u001b[0mself\u001b[0m\u001b[0;34m.\u001b[0m\u001b[0mapply_raw\u001b[0m\u001b[0;34m(\u001b[0m\u001b[0;34m)\u001b[0m\u001b[0;34m\u001b[0m\u001b[0;34m\u001b[0m\u001b[0m\n\u001b[1;32m    184\u001b[0m \u001b[0;34m\u001b[0m\u001b[0m\n\u001b[0;32m--> 185\u001b[0;31m         \u001b[0;32mreturn\u001b[0m \u001b[0mself\u001b[0m\u001b[0;34m.\u001b[0m\u001b[0mapply_standard\u001b[0m\u001b[0;34m(\u001b[0m\u001b[0;34m)\u001b[0m\u001b[0;34m\u001b[0m\u001b[0;34m\u001b[0m\u001b[0m\n\u001b[0m\u001b[1;32m    186\u001b[0m \u001b[0;34m\u001b[0m\u001b[0m\n\u001b[1;32m    187\u001b[0m     \u001b[0;32mdef\u001b[0m \u001b[0mapply_empty_result\u001b[0m\u001b[0;34m(\u001b[0m\u001b[0mself\u001b[0m\u001b[0;34m)\u001b[0m\u001b[0;34m:\u001b[0m\u001b[0;34m\u001b[0m\u001b[0;34m\u001b[0m\u001b[0m\n",
      "\u001b[0;32m~/opt/miniconda3/lib/python3.8/site-packages/pandas/core/apply.py\u001b[0m in \u001b[0;36mapply_standard\u001b[0;34m(self)\u001b[0m\n\u001b[1;32m    274\u001b[0m \u001b[0;34m\u001b[0m\u001b[0m\n\u001b[1;32m    275\u001b[0m     \u001b[0;32mdef\u001b[0m \u001b[0mapply_standard\u001b[0m\u001b[0;34m(\u001b[0m\u001b[0mself\u001b[0m\u001b[0;34m)\u001b[0m\u001b[0;34m:\u001b[0m\u001b[0;34m\u001b[0m\u001b[0;34m\u001b[0m\u001b[0m\n\u001b[0;32m--> 276\u001b[0;31m         \u001b[0mresults\u001b[0m\u001b[0;34m,\u001b[0m \u001b[0mres_index\u001b[0m \u001b[0;34m=\u001b[0m \u001b[0mself\u001b[0m\u001b[0;34m.\u001b[0m\u001b[0mapply_series_generator\u001b[0m\u001b[0;34m(\u001b[0m\u001b[0;34m)\u001b[0m\u001b[0;34m\u001b[0m\u001b[0;34m\u001b[0m\u001b[0m\n\u001b[0m\u001b[1;32m    277\u001b[0m \u001b[0;34m\u001b[0m\u001b[0m\n\u001b[1;32m    278\u001b[0m         \u001b[0;31m# wrap results\u001b[0m\u001b[0;34m\u001b[0m\u001b[0;34m\u001b[0m\u001b[0;34m\u001b[0m\u001b[0m\n",
      "\u001b[0;32m~/opt/miniconda3/lib/python3.8/site-packages/pandas/core/apply.py\u001b[0m in \u001b[0;36mapply_series_generator\u001b[0;34m(self)\u001b[0m\n\u001b[1;32m    288\u001b[0m             \u001b[0;32mfor\u001b[0m \u001b[0mi\u001b[0m\u001b[0;34m,\u001b[0m \u001b[0mv\u001b[0m \u001b[0;32min\u001b[0m \u001b[0menumerate\u001b[0m\u001b[0;34m(\u001b[0m\u001b[0mseries_gen\u001b[0m\u001b[0;34m)\u001b[0m\u001b[0;34m:\u001b[0m\u001b[0;34m\u001b[0m\u001b[0;34m\u001b[0m\u001b[0m\n\u001b[1;32m    289\u001b[0m                 \u001b[0;31m# ignore SettingWithCopy here in case the user mutates\u001b[0m\u001b[0;34m\u001b[0m\u001b[0;34m\u001b[0m\u001b[0;34m\u001b[0m\u001b[0m\n\u001b[0;32m--> 290\u001b[0;31m                 \u001b[0mresults\u001b[0m\u001b[0;34m[\u001b[0m\u001b[0mi\u001b[0m\u001b[0;34m]\u001b[0m \u001b[0;34m=\u001b[0m \u001b[0mself\u001b[0m\u001b[0;34m.\u001b[0m\u001b[0mf\u001b[0m\u001b[0;34m(\u001b[0m\u001b[0mv\u001b[0m\u001b[0;34m)\u001b[0m\u001b[0;34m\u001b[0m\u001b[0;34m\u001b[0m\u001b[0m\n\u001b[0m\u001b[1;32m    291\u001b[0m                 \u001b[0;32mif\u001b[0m \u001b[0misinstance\u001b[0m\u001b[0;34m(\u001b[0m\u001b[0mresults\u001b[0m\u001b[0;34m[\u001b[0m\u001b[0mi\u001b[0m\u001b[0;34m]\u001b[0m\u001b[0;34m,\u001b[0m \u001b[0mABCSeries\u001b[0m\u001b[0;34m)\u001b[0m\u001b[0;34m:\u001b[0m\u001b[0;34m\u001b[0m\u001b[0;34m\u001b[0m\u001b[0m\n\u001b[1;32m    292\u001b[0m                     \u001b[0;31m# If we have a view on v, we need to make a copy because\u001b[0m\u001b[0;34m\u001b[0m\u001b[0;34m\u001b[0m\u001b[0;34m\u001b[0m\u001b[0m\n",
      "\u001b[0;32m~/opt/miniconda3/lib/python3.8/site-packages/pandas/core/groupby/generic.py\u001b[0m in \u001b[0;36m<lambda>\u001b[0;34m(x)\u001b[0m\n\u001b[1;32m   1409\u001b[0m             \u001b[0mfast_path\u001b[0m \u001b[0;34m=\u001b[0m \u001b[0;32mlambda\u001b[0m \u001b[0mgroup\u001b[0m\u001b[0;34m:\u001b[0m \u001b[0mfunc\u001b[0m\u001b[0;34m(\u001b[0m\u001b[0mgroup\u001b[0m\u001b[0;34m,\u001b[0m \u001b[0;34m*\u001b[0m\u001b[0margs\u001b[0m\u001b[0;34m,\u001b[0m \u001b[0;34m**\u001b[0m\u001b[0mkwargs\u001b[0m\u001b[0;34m)\u001b[0m\u001b[0;34m\u001b[0m\u001b[0;34m\u001b[0m\u001b[0m\n\u001b[1;32m   1410\u001b[0m             slow_path = lambda group: group.apply(\n\u001b[0;32m-> 1411\u001b[0;31m                 \u001b[0;32mlambda\u001b[0m \u001b[0mx\u001b[0m\u001b[0;34m:\u001b[0m \u001b[0mfunc\u001b[0m\u001b[0;34m(\u001b[0m\u001b[0mx\u001b[0m\u001b[0;34m,\u001b[0m \u001b[0;34m*\u001b[0m\u001b[0margs\u001b[0m\u001b[0;34m,\u001b[0m \u001b[0;34m**\u001b[0m\u001b[0mkwargs\u001b[0m\u001b[0;34m)\u001b[0m\u001b[0;34m,\u001b[0m \u001b[0maxis\u001b[0m\u001b[0;34m=\u001b[0m\u001b[0mself\u001b[0m\u001b[0;34m.\u001b[0m\u001b[0maxis\u001b[0m\u001b[0;34m\u001b[0m\u001b[0;34m\u001b[0m\u001b[0m\n\u001b[0m\u001b[1;32m   1412\u001b[0m             )\n\u001b[1;32m   1413\u001b[0m         \u001b[0;32mreturn\u001b[0m \u001b[0mfast_path\u001b[0m\u001b[0;34m,\u001b[0m \u001b[0mslow_path\u001b[0m\u001b[0;34m\u001b[0m\u001b[0;34m\u001b[0m\u001b[0m\n",
      "\u001b[0;32m<ipython-input-3-7ca01f158208>\u001b[0m in \u001b[0;36mnormalize_list\u001b[0;34m(l)\u001b[0m\n\u001b[1;32m     11\u001b[0m     \u001b[0mmax\u001b[0m \u001b[0;34m=\u001b[0m \u001b[0mnp\u001b[0m\u001b[0;34m.\u001b[0m\u001b[0mmax\u001b[0m\u001b[0;34m(\u001b[0m\u001b[0ml\u001b[0m\u001b[0;34m)\u001b[0m\u001b[0;34m\u001b[0m\u001b[0;34m\u001b[0m\u001b[0m\n\u001b[1;32m     12\u001b[0m \u001b[0;34m\u001b[0m\u001b[0m\n\u001b[0;32m---> 13\u001b[0;31m     \u001b[0;32mreturn\u001b[0m \u001b[0;34m[\u001b[0m\u001b[0mnormalize_value\u001b[0m\u001b[0;34m(\u001b[0m\u001b[0mx\u001b[0m\u001b[0;34m,\u001b[0m\u001b[0mmin\u001b[0m\u001b[0;34m,\u001b[0m\u001b[0mmax\u001b[0m\u001b[0;34m)\u001b[0m \u001b[0;32mfor\u001b[0m \u001b[0mx\u001b[0m \u001b[0;32min\u001b[0m \u001b[0ml\u001b[0m\u001b[0;34m]\u001b[0m\u001b[0;34m\u001b[0m\u001b[0;34m\u001b[0m\u001b[0m\n\u001b[0m\u001b[1;32m     14\u001b[0m \u001b[0;34m\u001b[0m\u001b[0m\n\u001b[1;32m     15\u001b[0m \u001b[0;32mdef\u001b[0m \u001b[0mget_best_lag\u001b[0m\u001b[0;34m(\u001b[0m\u001b[0mv1\u001b[0m\u001b[0;34m,\u001b[0m\u001b[0mv2\u001b[0m\u001b[0;34m,\u001b[0m\u001b[0mmode\u001b[0m\u001b[0;34m)\u001b[0m\u001b[0;34m:\u001b[0m\u001b[0;34m\u001b[0m\u001b[0;34m\u001b[0m\u001b[0m\n",
      "\u001b[0;32m<ipython-input-3-7ca01f158208>\u001b[0m in \u001b[0;36m<listcomp>\u001b[0;34m(.0)\u001b[0m\n\u001b[1;32m     11\u001b[0m     \u001b[0mmax\u001b[0m \u001b[0;34m=\u001b[0m \u001b[0mnp\u001b[0m\u001b[0;34m.\u001b[0m\u001b[0mmax\u001b[0m\u001b[0;34m(\u001b[0m\u001b[0ml\u001b[0m\u001b[0;34m)\u001b[0m\u001b[0;34m\u001b[0m\u001b[0;34m\u001b[0m\u001b[0m\n\u001b[1;32m     12\u001b[0m \u001b[0;34m\u001b[0m\u001b[0m\n\u001b[0;32m---> 13\u001b[0;31m     \u001b[0;32mreturn\u001b[0m \u001b[0;34m[\u001b[0m\u001b[0mnormalize_value\u001b[0m\u001b[0;34m(\u001b[0m\u001b[0mx\u001b[0m\u001b[0;34m,\u001b[0m\u001b[0mmin\u001b[0m\u001b[0;34m,\u001b[0m\u001b[0mmax\u001b[0m\u001b[0;34m)\u001b[0m \u001b[0;32mfor\u001b[0m \u001b[0mx\u001b[0m \u001b[0;32min\u001b[0m \u001b[0ml\u001b[0m\u001b[0;34m]\u001b[0m\u001b[0;34m\u001b[0m\u001b[0;34m\u001b[0m\u001b[0m\n\u001b[0m\u001b[1;32m     14\u001b[0m \u001b[0;34m\u001b[0m\u001b[0m\n\u001b[1;32m     15\u001b[0m \u001b[0;32mdef\u001b[0m \u001b[0mget_best_lag\u001b[0m\u001b[0;34m(\u001b[0m\u001b[0mv1\u001b[0m\u001b[0;34m,\u001b[0m\u001b[0mv2\u001b[0m\u001b[0;34m,\u001b[0m\u001b[0mmode\u001b[0m\u001b[0;34m)\u001b[0m\u001b[0;34m:\u001b[0m\u001b[0;34m\u001b[0m\u001b[0;34m\u001b[0m\u001b[0m\n",
      "\u001b[0;32m<ipython-input-3-7ca01f158208>\u001b[0m in \u001b[0;36mnormalize_value\u001b[0;34m(x, min, max)\u001b[0m\n\u001b[1;32m      1\u001b[0m \u001b[0;32mdef\u001b[0m \u001b[0mnormalize_value\u001b[0m\u001b[0;34m(\u001b[0m\u001b[0mx\u001b[0m\u001b[0;34m,\u001b[0m \u001b[0mmin\u001b[0m\u001b[0;34m,\u001b[0m \u001b[0mmax\u001b[0m\u001b[0;34m)\u001b[0m\u001b[0;34m:\u001b[0m\u001b[0;34m\u001b[0m\u001b[0;34m\u001b[0m\u001b[0m\n\u001b[1;32m      2\u001b[0m \u001b[0;34m\u001b[0m\u001b[0m\n\u001b[0;32m----> 3\u001b[0;31m     \u001b[0;32mif\u001b[0m \u001b[0;32mnot\u001b[0m\u001b[0;34m(\u001b[0m\u001b[0mx\u001b[0m\u001b[0;34m.\u001b[0m\u001b[0misnumeric\u001b[0m\u001b[0;34m(\u001b[0m\u001b[0;34m)\u001b[0m\u001b[0;34m)\u001b[0m \u001b[0;32mor\u001b[0m \u001b[0;32mnot\u001b[0m\u001b[0;34m(\u001b[0m\u001b[0mmin\u001b[0m\u001b[0;34m.\u001b[0m\u001b[0misnumeric\u001b[0m\u001b[0;34m(\u001b[0m\u001b[0;34m)\u001b[0m\u001b[0;34m)\u001b[0m \u001b[0;32mor\u001b[0m \u001b[0;32mnot\u001b[0m\u001b[0;34m(\u001b[0m\u001b[0mmin\u001b[0m\u001b[0;34m.\u001b[0m\u001b[0misnumeric\u001b[0m\u001b[0;34m(\u001b[0m\u001b[0;34m)\u001b[0m\u001b[0;34m)\u001b[0m\u001b[0;34m:\u001b[0m\u001b[0;34m\u001b[0m\u001b[0;34m\u001b[0m\u001b[0m\n\u001b[0m\u001b[1;32m      4\u001b[0m         \u001b[0;32mreturn\u001b[0m \u001b[0;32mNone\u001b[0m\u001b[0;34m\u001b[0m\u001b[0;34m\u001b[0m\u001b[0m\n\u001b[1;32m      5\u001b[0m \u001b[0;34m\u001b[0m\u001b[0m\n",
      "\u001b[0;31mAttributeError\u001b[0m: 'float' object has no attribute 'isnumeric'"
     ]
    }
   ],
   "source": [
    "data_t1 = raw_data.copy()\n",
    "norm_cols = data_t1.groupby(['Country','Crime Typology'])['Crimes per 100k','Unemp Perc','Early Leavers Perc'].transform(normalize_list)\n",
    "\n",
    "data_t1['Crimes per 100k'] = norm_cols['Crimes per 100k']\n",
    "data_t1['Unemp Perc'] = norm_cols['Unemp Perc']\n",
    "data_t1['Early Leavers Perc'] = norm_cols['Early Leavers Perc']\n",
    "\n",
    "data_t1"
   ]
  },
  {
   "cell_type": "markdown",
   "id": "7110cb30",
   "metadata": {},
   "source": [
    "## 3. Criminality vs Unemployment Rates"
   ]
  },
  {
   "cell_type": "code",
   "execution_count": null,
   "id": "b2429914",
   "metadata": {},
   "outputs": [],
   "source": [
    "g = sns.lmplot(\n",
    "    data=data_t1, \n",
    "    x='Unemp Perc', \n",
    "    y='Crimes per 100k', \n",
    "    hue='Crime Typology',\n",
    "    col='Country', \n",
    "    col_wrap=4, \n",
    "    legend=False)\n",
    "\n",
    "g.set(ylim=(0, 1.2))\n",
    "plt.legend(bbox_to_anchor=(2, 5))"
   ]
  },
  {
   "cell_type": "code",
   "execution_count": null,
   "id": "702d3f72",
   "metadata": {},
   "outputs": [],
   "source": [
    "data_t2 = []\n",
    "for country in COUNTRIES:\n",
    "    for crime_type in CRIME_TYPOLOGIES:\n",
    "        df_split = data_t1[(data_t1['Country'] == country) & (data_t1['Crime Typology'] == crime_type)]\n",
    "        data = {\n",
    "            'country': country,\n",
    "            'crime_type': crime_type,\n",
    "            'crime_values': list(df_split['Crimes per 100k']),\n",
    "            'unemp_values': list(df_split['Unemp Perc'])\n",
    "        }\n",
    "        data_t2.append(data)\n",
    "        \n",
    "data_t2"
   ]
  },
  {
   "cell_type": "code",
   "execution_count": null,
   "id": "05a2bf75",
   "metadata": {},
   "outputs": [],
   "source": [
    "for i,d in enumerate(data_t2):\n",
    "    corr_idx, p_value = stats.pearsonr(d['crime_values'], d['unemp_values'])\n",
    "    data_t2[i]['pearson'] = corr_idx\n",
    "    data_t2[i]['p_value'] = p_value\n",
    "    \n",
    "data_t2"
   ]
  },
  {
   "cell_type": "code",
   "execution_count": null,
   "id": "0d1a4ab0",
   "metadata": {},
   "outputs": [],
   "source": [
    "data_t3 = filter_p_value(data_t2, MAX_P_VALUE, False)\n",
    "\n",
    "data_t4 = pd.DataFrame(data_t3)\n",
    "data_t4.sort_values(['pearson'], ascending=False).reset_index()"
   ]
  },
  {
   "cell_type": "markdown",
   "id": "240473d0",
   "metadata": {},
   "source": [
    "## 4. Criminality vs Early Leavers from School Rates"
   ]
  },
  {
   "cell_type": "code",
   "execution_count": null,
   "id": "e2897718",
   "metadata": {},
   "outputs": [],
   "source": [
    "g = sns.lmplot(\n",
    "    data=data_t1, \n",
    "    x='Early Leavers Perc', \n",
    "    y='Crimes per 100k', \n",
    "    hue='Crime Typology',\n",
    "    col='Country', \n",
    "    col_wrap=4, \n",
    "    legend=False)\n",
    "\n",
    "g.set(ylim=(0, 1.2))\n",
    "plt.legend(bbox_to_anchor=(2, 5))"
   ]
  },
  {
   "cell_type": "code",
   "execution_count": null,
   "id": "08cfe569",
   "metadata": {},
   "outputs": [],
   "source": [
    "data_t5 = []\n",
    "for country in COUNTRIES:\n",
    "    for crime_type in CRIME_TYPOLOGIES:\n",
    "        df_split = data_t1[(data_t1['Country'] == country) & (data_t1['Crime Typology'] == crime_type)]\n",
    "        data = {\n",
    "            'country': country,\n",
    "            'crime_type': crime_type,\n",
    "            'crime_values': list(df_split['Crimes per 100k']),\n",
    "            'early_leavers_values':list(df_split['Early Leavers Perc'])\n",
    "        }\n",
    "        data_t5.append(data)\n",
    "        \n",
    "data_t5"
   ]
  },
  {
   "cell_type": "code",
   "execution_count": null,
   "id": "3be2e0a8",
   "metadata": {},
   "outputs": [],
   "source": [
    "for i,d in enumerate(data_t5):\n",
    "    corr_idx, p_value = stats.pearsonr(d['crime_values'], d['early_leavers_values'])\n",
    "    data_t5[i]['pearson'] = corr_idx\n",
    "    data_t5[i]['p_value'] = p_value\n",
    "data_t5"
   ]
  },
  {
   "cell_type": "markdown",
   "id": "ca6513b4",
   "metadata": {},
   "source": [
    "## 4.1 Looking for lag in causation"
   ]
  },
  {
   "cell_type": "code",
   "execution_count": null,
   "id": "53c60171",
   "metadata": {},
   "outputs": [],
   "source": [
    "data_t6 = filter_p_value(data_t5, MAX_P_VALUE, False)\n",
    "\n",
    "data_t7 = pd.DataFrame(data_t6)\n",
    "data_t7.sort_values(['pearson'], ascending=False).reset_index()[['country','crime_type','pearson','p_value']]"
   ]
  },
  {
   "cell_type": "code",
   "execution_count": null,
   "id": "e4c28e1b",
   "metadata": {},
   "outputs": [],
   "source": [
    "for i,d in enumerate(data_t5):    \n",
    "    best_lag = get_best_lag(d['crime_values'],d['early_leavers_values'],'same')\n",
    "    data_t5[i]['best_lag'] = best_lag\n",
    "data_t5"
   ]
  },
  {
   "cell_type": "code",
   "execution_count": null,
   "id": "b23ee0bd",
   "metadata": {},
   "outputs": [],
   "source": [
    "for i,d in enumerate(data_t5):\n",
    "    v1, v2 = shift_array(d['crime_values'], d['early_leavers_values'], d['best_lag'])\n",
    "    \n",
    "    corr_lag,p_value_lag = stats.pearsonr(v1, v2)\n",
    "    data_t5[i]['pearson_lag'] = corr_lag\n",
    "    data_t5[i]['p_value_lag'] = p_value_lag\n",
    "    \n",
    "data_t5"
   ]
  },
  {
   "cell_type": "code",
   "execution_count": null,
   "id": "702aa8e0",
   "metadata": {},
   "outputs": [],
   "source": [
    "data_t8 = filter_p_value(data_t5, MAX_P_VALUE, True)\n",
    "data_t9 = pd.DataFrame(data_t8)\n",
    "data_t9.sort_values(['pearson'], ascending=False).reset_index()[['country','crime_type','pearson','p_value','pearson_lag','p_value_lag','best_lag']]"
   ]
  },
  {
   "cell_type": "markdown",
   "id": "472128a8",
   "metadata": {},
   "source": [
    "## Criminality Prediction"
   ]
  },
  {
   "cell_type": "code",
   "execution_count": null,
   "id": "08ea9a98",
   "metadata": {},
   "outputs": [],
   "source": [
    "italy_crim_data = pd.read_csv(\"italy_next_decade/estat_crim_off_cat.tsv\", sep=\"\\t\")\n",
    "italy_unemp_data = pd.read_csv(\"italy_next_decade/estat_une_rt_a.tsv\", sep=\"\\t\")\n",
    "italy_early_data = pd.read_csv(\"italy_next_decade/estat_edat_lfse_14.tsv\", sep=\"\\t\")\n",
    "\n",
    "italy_crim_data = list(italy_crim_data.drop('2010 ', axis=1).values[0][1:])\n",
    "italy_unemp_data = list(italy_unemp_data.drop('2020 ', axis=1).values[0][1:])\n",
    "italy_early_data = list(italy_early_data.drop('2020 ', axis=1).values[0][1:])\n",
    "italy_early_data = [15.0 if x=='15.0 b' else x for x in italy_early_data]\n",
    "\n",
    "\n",
    "#y_test = list(italy_crim_data.values[0][1:])\n",
    "\n",
    "#list(zip(list(italy_unemp_data.values[0][1:]),list(italy_early_data.values[0][1:])))\n",
    "y_test = italy_crim_data\n",
    "X_test = [list(x) for x in zip(italy_unemp_data, italy_early_data)]\n"
   ]
  },
  {
   "cell_type": "code",
   "execution_count": null,
   "id": "2dfd7f84",
   "metadata": {},
   "outputs": [],
   "source": [
    "italy_data = raw_data[(raw_data['Country'] == 'Italy') & (raw_data['Crime Typology'] == 'Intentional homicide')]\n",
    "\n",
    "y_train = list(italy_data['Crimes Reported'].values)\n",
    "X_train = [list(x) for x in zip(italy_data['Unemp Perc'].values, italy_data['Early Leavers Perc'].values)]\n",
    "\n",
    "print(X_train)\n",
    "print(X_test)\n",
    "\n",
    "print(y_train)\n",
    "print(y_test)"
   ]
  },
  {
   "cell_type": "code",
   "execution_count": null,
   "id": "a4541a06",
   "metadata": {},
   "outputs": [],
   "source": [
    "y = italy_crim_data + list(italy_data['Crimes Reported'].values)\n",
    "X = [list(x) for x in zip(italy_unemp_data, italy_early_data)] + [list(x) for x in zip(italy_data['Unemp Perc'].values, italy_data['Early Leavers Perc'].values)]\n",
    "\n",
    "X_train, X_test, y_train, y_test = train_test_split(X, y, test_size = 0.2)\n"
   ]
  },
  {
   "cell_type": "code",
   "execution_count": null,
   "id": "65f7d2dd",
   "metadata": {},
   "outputs": [],
   "source": [
    "regr = linear_model.LinearRegression()\n",
    "regr.fit(X_train, y_train)\n",
    "\n",
    "crim_predictions = regr.predict(X_test)\n",
    "print(crim_predictions)\n",
    "print(y_test)\n",
    "\n",
    "score=r2_score(y_test,crim_predictions)\n",
    "score"
   ]
  }
 ],
 "metadata": {
  "kernelspec": {
   "display_name": "Python 3",
   "language": "python",
   "name": "python3"
  },
  "language_info": {
   "codemirror_mode": {
    "name": "ipython",
    "version": 3
   },
   "file_extension": ".py",
   "mimetype": "text/x-python",
   "name": "python",
   "nbconvert_exporter": "python",
   "pygments_lexer": "ipython3",
   "version": "3.8.5"
  }
 },
 "nbformat": 4,
 "nbformat_minor": 5
}
